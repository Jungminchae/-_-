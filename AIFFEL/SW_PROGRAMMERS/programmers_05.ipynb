{
 "cells": [
  {
   "cell_type": "code",
   "execution_count": 1,
   "metadata": {},
   "outputs": [],
   "source": [
    "# 가장 큰 수\n",
    "def solution(numbers):\n",
    "    answer = ''\n",
    "    # 리스트 원소를 숫자 -> 문자\n",
    "    numbers = list(map(str, numbers))\n",
    "    # 가장 큰 수를 만들 수 있는 상태로 정렬\n",
    "    '''\n",
    "    문자열의 정렬은 가나다 순 정렬 개념\n",
    "    원소의 값이 1000이하 이기때문에 일의자리 십의자리, 백의자리까지 비교할 수 있도록 하기 위해서\n",
    "    lambda x : x*3 을 해 줌 \n",
    "    그렇게하면 2번째 예시에서 34,3,30 순으로 정렬 가능 \n",
    "    ''' \n",
    "    numbers.sort(reverse=True, key = lambda x:x*4)\n",
    "    # 문자열로 결합\n",
    "    for i in numbers:\n",
    "        answer += i\n",
    "    answer = str(int(answer))\n",
    "    return answer"
   ]
  }
 ],
 "metadata": {
  "kernelspec": {
   "display_name": "env01",
   "language": "python",
   "name": "env01"
  },
  "language_info": {
   "codemirror_mode": {
    "name": "ipython",
    "version": 3
   },
   "file_extension": ".py",
   "mimetype": "text/x-python",
   "name": "python",
   "nbconvert_exporter": "python",
   "pygments_lexer": "ipython3",
   "version": "3.7.7"
  }
 },
 "nbformat": 4,
 "nbformat_minor": 4
}
