{
 "cells": [
  {
   "cell_type": "markdown",
   "metadata": {},
   "source": [
    "# 문제\n",
    "\n",
    "A도시는 전기버스를 운행하려고 한다. 전기버스는 한번 충전으로 이동할 수 있는 정류장 수가 정해져 있어서, 중간에 충전기가 설치된 정류장을 만들기로 했다.\n",
    "\n",
    "버스는 0번에서 출발해 종점인 N번 정류장까지 이동하고, 한번 충전으로 최대한 이동할 수 있는 정류장 수 K가 정해져 있다.\n",
    "\n",
    "충전기가 설치된 M개의 정류장 번호가 주어질 때, 최소한 몇 번의 충전을 해야 종점에 도착할 수 있는지 출력하는 프로그램을 만드시오.\n",
    "\n",
    "만약 충전기 설치가 잘못되어 종점에 도착할 수 없는 경우는 0을 출력한다. 출발지에는 항상 충전기가 설치되어 있지만 충전횟수에는 포함하지 않는다.\n",
    "\n",
    "## 입력\n",
    "3\n",
    "\n",
    "3 10 5\n",
    "\n",
    "1 3 5 7 9\n",
    "\n",
    "3 10 5\n",
    "\n",
    "1 3 7 8 9\n",
    "\n",
    "5 20 5\n",
    "\n",
    "4 7 9 14 17"
   ]
  },
  {
   "cell_type": "code",
   "execution_count": 3,
   "metadata": {
    "scrolled": true
   },
   "outputs": [
    {
     "name": "stdout",
     "output_type": "stream",
     "text": [
      "1\n",
      "3 10 5\n",
      "1 3 5 7 9\n",
      "#1 3\n"
     ]
    }
   ],
   "source": [
    "T = int(input())\n",
    "for test_case in range(1, T+1):\n",
    "    K,N,M = map(int,input().split())\n",
    "    station = list(map(int, input().split()))\n",
    "    station_lst = [i for i in range(N+1)]\n",
    "    \n",
    "    # 버스 출발점 인덱스\n",
    "    start = 1\n",
    "    # 버스 최대 도착점 인덱스\n",
    "    end = K +1\n",
    "    # 충전 횟수\n",
    "    charge = 0\n",
    "\n",
    "    while True:\n",
    "        move = 0\n",
    "        for i in range(start, end):\n",
    "            if station_lst[i] == 1:\n",
    "                start = i\n",
    "            else:\n",
    "                move += 1\n",
    "        # 움직인 횟수가 K랑 같아지면 더 움직일 수 없음\n",
    "        # 0 return 후 반복문 종료\n",
    "        if move == K:\n",
    "            cnt = 0\n",
    "            break\n",
    "        # Count 1 증가\n",
    "        cnt += 1\n",
    "        # 최대 도착점 리셋\n",
    "        end = start + K\n",
    "\n",
    "        if end >= N:\n",
    "            break\n",
    "\n",
    "    print('#%s %d'%(test_case, cnt))"
   ]
  },
  {
   "cell_type": "code",
   "execution_count": 8,
   "metadata": {},
   "outputs": [
    {
     "name": "stdout",
     "output_type": "stream",
     "text": [
      "8\n",
      "9\n",
      "10\n"
     ]
    }
   ],
   "source": [
    "for i in range(start +1, end +1):\n",
    "    print(i)\n",
    "    if station_list[i] == 1:\n",
    "        start = i\n",
    "    else:\n",
    "        zero += 1"
   ]
  },
  {
   "cell_type": "code",
   "execution_count": 4,
   "metadata": {},
   "outputs": [
    {
     "data": {
      "text/plain": [
       "[0, 0, 0, 0, 0, 0, 0, 0, 0, 0, 0]"
      ]
     },
     "execution_count": 4,
     "metadata": {},
     "output_type": "execute_result"
    }
   ],
   "source": [
    "[0] * (11)"
   ]
  },
  {
   "cell_type": "code",
   "execution_count": 5,
   "metadata": {},
   "outputs": [
    {
     "data": {
      "text/plain": [
       "[0, 1, 2, 3, 4, 5, 6, 7, 8, 9, 10]"
      ]
     },
     "execution_count": 5,
     "metadata": {},
     "output_type": "execute_result"
    }
   ],
   "source": [
    "N =10\n",
    "station_list = [ i for i in range(N+1)]\n",
    "station_list"
   ]
  },
  {
   "cell_type": "code",
   "execution_count": null,
   "metadata": {},
   "outputs": [],
   "source": [
    "TC = int(input())\n",
    "for tc in range(1, TC+1):\n",
    "    K,N,M = map(int,input().split())\n",
    "    station = list(map(int, input().split()))\n",
    "    station_list = [ i for i in range(N+1)]\n"
   ]
  },
  {
   "cell_type": "code",
   "execution_count": 10,
   "metadata": {},
   "outputs": [
    {
     "data": {
      "text/plain": [
       "[0, 1, 2, 3, 4, 5, 6, 7, 8, 9, 10]"
      ]
     },
     "execution_count": 10,
     "metadata": {},
     "output_type": "execute_result"
    }
   ],
   "source": [
    "station_list"
   ]
  },
  {
   "cell_type": "code",
   "execution_count": 14,
   "metadata": {},
   "outputs": [
    {
     "data": {
      "text/plain": [
       "[1, 3, 5, 7, 9]"
      ]
     },
     "execution_count": 14,
     "metadata": {},
     "output_type": "execute_result"
    }
   ],
   "source": [
    "station"
   ]
  },
  {
   "cell_type": "code",
   "execution_count": 24,
   "metadata": {},
   "outputs": [],
   "source": [
    "station = [1,3,5,7,9]"
   ]
  },
  {
   "cell_type": "code",
   "execution_count": 25,
   "metadata": {},
   "outputs": [],
   "source": [
    "M=10\n",
    "K= 3"
   ]
  },
  {
   "cell_type": "code",
   "execution_count": 66,
   "metadata": {
    "scrolled": true
   },
   "outputs": [
    {
     "name": "stdout",
     "output_type": "stream",
     "text": [
      "1\n",
      "3 10 5\n",
      "1 3 5 7 9\n",
      "i :  1\n",
      "move :  1\n",
      "distance :  2\n",
      "가능 거리 :  2\n",
      "\n",
      "i :  2\n",
      "move :  2\n",
      "distance :  1\n",
      "가능 거리 :  1\n",
      "\n",
      "i :  3\n",
      "move :  3\n",
      "distance :  0\n",
      "가능 거리 :  0\n",
      "\n",
      "3 에서 count 발생 elif\n",
      "i :  4\n",
      "move :  1\n",
      "distance :  2\n",
      "가능 거리 :  2\n",
      "\n",
      "i :  5\n",
      "move :  2\n",
      "distance :  1\n",
      "가능 거리 :  1\n",
      "\n",
      "i :  6\n",
      "move :  3\n",
      "distance :  0\n",
      "가능 거리 :  0\n",
      "\n",
      "i :  7\n",
      "move :  4\n",
      "distance :  -1\n",
      "가능 거리 :  -1\n",
      "\n",
      "i :  8\n",
      "move :  5\n",
      "distance :  -2\n",
      "가능 거리 :  -2\n",
      "\n",
      "i :  9\n",
      "move :  6\n",
      "distance :  -3\n",
      "가능 거리 :  -3\n",
      "\n",
      "i :  10\n",
      "move :  7\n",
      "distance :  -4\n",
      "가능 거리 :  -4\n",
      "\n",
      "10\n",
      "#1 1\n"
     ]
    }
   ],
   "source": [
    "T = int(input())\n",
    "for test_case in range(1, T+1):\n",
    "    K,N,M = map(int,input().split())\n",
    "    station = list(map(int, input().split()))\n",
    "    station_list = [ i for i in range(N+1)]\n",
    "\n",
    "    move = 0\n",
    "    count = 0\n",
    "    distance = K\n",
    "    for i in range(1 ,len(station_list)):\n",
    "        move += 1\n",
    "        distance -= 1\n",
    "\n",
    "        if (i in station) and (distance < (K - move)) and (N - i >= K) :\n",
    "            count += 1\n",
    "            print(i, '에서 count 발생 ')\n",
    "\n",
    "            if move > K :\n",
    "                count=0\n",
    "                print(i,' 에서 0 발생')\n",
    "                break\n",
    "            distance = K\n",
    "            move = 0\n",
    "        elif (i in station) and distance == (K - move) ==0:\n",
    "            count +=1\n",
    "            move = 0 \n",
    "            distance = K\n",
    "            print(i, '에서 count 발생 elif')\n",
    "\n",
    "    print(i)\n",
    "    print(\"#{} {}\".format(test_case,count))"
   ]
  },
  {
   "cell_type": "code",
   "execution_count": null,
   "metadata": {},
   "outputs": [],
   "source": [
    "T = int(input())\n",
    "for test_case in range(1, T+1):\n",
    "    K,N,M = map(int,input().split())\n",
    "    station = list(map(int, input().split()))\n",
    "    station_list = [ i for i in range(N+1)]\n",
    "\n",
    "    move = 0\n",
    "    count = 0\n",
    "    distance = K\n",
    "    for i in range(1 ,len(station_list)):\n",
    "        move += 1\n",
    "        distance -= 1\n",
    "        # 충전소 도착\n",
    "        if i in station and (N - i >= K):\n",
    "            index = station.index(i)\n",
    "            print(index)\n",
    "            # 갈 수 있는 거리가 다음 충전소까지 거리보다 작으면 충전 \n",
    "            if distance < station[index+1] - station[index] or (distance ==(K -move) == 0) :\n",
    "                count += 1\n",
    "                move = 0\n",
    "                distance = K\n",
    "        if move > K:\n",
    "            count = 0\n",
    "            break\n",
    "    print(\"#{} {}\".format(test_case,count))"
   ]
  },
  {
   "cell_type": "code",
   "execution_count": null,
   "metadata": {},
   "outputs": [],
   "source": [
    "K - move = \"갈 수 있는 거리\"\n",
    "distance = '남은 거리'"
   ]
  },
  {
   "cell_type": "code",
   "execution_count": 9,
   "metadata": {},
   "outputs": [
    {
     "data": {
      "text/plain": [
       "True"
      ]
     },
     "execution_count": 9,
     "metadata": {},
     "output_type": "execute_result"
    }
   ],
   "source": [
    "3\n",
    "\n",
    "3 10 5\n",
    "\n",
    "1 3 5 7 9\n",
    "\n",
    "3 10 5\n",
    "\n",
    "1 3 7 8 9\n",
    "\n",
    "5 20 5\n",
    "\n",
    "4 7 9 14 17"
   ]
  },
  {
   "cell_type": "code",
   "execution_count": 21,
   "metadata": {},
   "outputs": [
    {
     "data": {
      "text/plain": [
       "(10, 3, [1, 3, 7, 8, 9])"
      ]
     },
     "execution_count": 21,
     "metadata": {},
     "output_type": "execute_result"
    }
   ],
   "source": [
    "M, K, station"
   ]
  },
  {
   "cell_type": "code",
   "execution_count": 67,
   "metadata": {},
   "outputs": [],
   "source": [
    "temp = [1,2,3,4,5]"
   ]
  },
  {
   "cell_type": "code",
   "execution_count": 68,
   "metadata": {},
   "outputs": [
    {
     "data": {
      "text/plain": [
       "0"
      ]
     },
     "execution_count": 68,
     "metadata": {},
     "output_type": "execute_result"
    }
   ],
   "source": [
    "temp.index(1)"
   ]
  },
  {
   "cell_type": "code",
   "execution_count": 70,
   "metadata": {},
   "outputs": [
    {
     "data": {
      "text/plain": [
       "3.0"
      ]
     },
     "execution_count": 70,
     "metadata": {},
     "output_type": "execute_result"
    }
   ],
   "source": [
    "float(3)"
   ]
  },
  {
   "cell_type": "code",
   "execution_count": 80,
   "metadata": {},
   "outputs": [],
   "source": [
    "a = int(3)"
   ]
  },
  {
   "cell_type": "code",
   "execution_count": 81,
   "metadata": {},
   "outputs": [
    {
     "data": {
      "text/plain": [
       "3"
      ]
     },
     "execution_count": 81,
     "metadata": {},
     "output_type": "execute_result"
    }
   ],
   "source": [
    "a"
   ]
  },
  {
   "cell_type": "code",
   "execution_count": 82,
   "metadata": {},
   "outputs": [
    {
     "name": "stdout",
     "output_type": "stream",
     "text": [
      "3.00\n"
     ]
    }
   ],
   "source": [
    "print(\"{:.2f}\".format(a))"
   ]
  }
 ],
 "metadata": {
  "kernelspec": {
   "display_name": "aiffel",
   "language": "python",
   "name": "aiffel"
  },
  "language_info": {
   "codemirror_mode": {
    "name": "ipython",
    "version": 3
   },
   "file_extension": ".py",
   "mimetype": "text/x-python",
   "name": "python",
   "nbconvert_exporter": "python",
   "pygments_lexer": "ipython3",
   "version": "3.7.6"
  }
 },
 "nbformat": 4,
 "nbformat_minor": 4
}
