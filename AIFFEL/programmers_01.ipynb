{
 "cells": [
  {
   "cell_type": "code",
   "execution_count": 1,
   "metadata": {},
   "outputs": [],
   "source": [
    "# 크레인 인형뽑기\n",
    "def solution(board, moves):\n",
    "    answer = 0\n",
    "    basket =[]\n",
    "    for num in moves:\n",
    "        for i, stack in enumerate(board):\n",
    "            # stack이 num -1 위치가 0일 경우 넘어감\n",
    "            if stack[num-1]==0:\n",
    "                continue\n",
    "            else:\n",
    "                # 숫자가 있을 경우 basket으로 숫자를 옮기고 그 자리는 0으로 비워줌\n",
    "                basket.append(stack[num-1])\n",
    "                stack[num-1] = 0\n",
    "                if len(basket) >= 2 and basket[-1] == basket[-2]:\n",
    "                    basket.pop()\n",
    "                    basket.pop()\n",
    "                    answer += 2\n",
    "                break\n",
    "    return answer"
   ]
  }
 ],
 "metadata": {
  "kernelspec": {
   "display_name": "Python 3",
   "language": "python",
   "name": "python3"
  },
  "language_info": {
   "codemirror_mode": {
    "name": "ipython",
    "version": 3
   },
   "file_extension": ".py",
   "mimetype": "text/x-python",
   "name": "python",
   "nbconvert_exporter": "python",
   "pygments_lexer": "ipython3",
   "version": "3.7.6"
  }
 },
 "nbformat": 4,
 "nbformat_minor": 2
}
