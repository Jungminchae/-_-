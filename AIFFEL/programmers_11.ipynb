{
 "cells": [
  {
   "cell_type": "code",
   "execution_count": 1,
   "metadata": {},
   "outputs": [],
   "source": [
    "# 타겟 넘버\n",
    "def solution(numbers, target):\n",
    "    n = len(numbers)\n",
    "    cnt = 0\n",
    "    def dfs(L, total):\n",
    "        if L == n:\n",
    "            if total == target:\n",
    "                nonlocal cnt\n",
    "                cnt += 1\n",
    "        else:\n",
    "            dfs(L+1, total+numbers[L])\n",
    "            dfs(L+1, total-numbers[L])\n",
    "    \n",
    "    dfs(0,0)\n",
    "    return cnt"
   ]
  }
 ],
 "metadata": {
  "kernelspec": {
   "display_name": "Python 3",
   "language": "python",
   "name": "python3"
  },
  "language_info": {
   "codemirror_mode": {
    "name": "ipython",
    "version": 3
   },
   "file_extension": ".py",
   "mimetype": "text/x-python",
   "name": "python",
   "nbconvert_exporter": "python",
   "pygments_lexer": "ipython3",
   "version": "3.7.3"
  }
 },
 "nbformat": 4,
 "nbformat_minor": 2
}
