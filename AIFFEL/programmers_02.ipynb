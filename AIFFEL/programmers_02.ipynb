{
 "cells": [
  {
   "cell_type": "code",
   "execution_count": 1,
   "metadata": {},
   "outputs": [],
   "source": [
    "# K번째 수\n",
    "def solution(array, commands):\n",
    "    answer = []\n",
    "    # commands 분리\n",
    "    for command_list in commands:\n",
    "        # i, j, k 선언\n",
    "        i, j ,k = command_list[0], command_list[1], command_list[2]\n",
    "        # 분리 되었을때 배열 선언\n",
    "        temp = array[:]\n",
    "        temp = temp[i-1:j]\n",
    "        temp.sort()\n",
    "        # answer에 담아 주기\n",
    "        answer.append(temp[k-1])\n",
    "    return answer"
   ]
  }
 ],
 "metadata": {
  "kernelspec": {
   "display_name": "Python 3",
   "language": "python",
   "name": "python3"
  },
  "language_info": {
   "codemirror_mode": {
    "name": "ipython",
    "version": 3
   },
   "file_extension": ".py",
   "mimetype": "text/x-python",
   "name": "python",
   "nbconvert_exporter": "python",
   "pygments_lexer": "ipython3",
   "version": "3.7.6"
  }
 },
 "nbformat": 4,
 "nbformat_minor": 4
}
