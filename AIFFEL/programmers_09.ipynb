{
 "cells": [
  {
   "cell_type": "code",
   "execution_count": 1,
   "metadata": {},
   "outputs": [],
   "source": [
    "# 소수 찾기\n",
    "def solution(n):\n",
    "    answer = 0\n",
    "    \n",
    "    ## 0 ~ n의 배열을 갖는 리스트 생성\n",
    "    ## 각각의 위치마다 소수 여부 표시 ('o' : 소수, 'x' : 소수아님)\n",
    "    ## 0과 1은 소수가 아님\n",
    "    prime_list = ['x']*2+['o']*(n-1)    \n",
    "\n",
    "    for i in range(2, int(n ** 0.5) + 1):\n",
    "        print(i)\n",
    "        if prime_list[i] == 'o':       # i가 소수인 경우\n",
    "            for j in range(2*i, n+1, i): # i의 배수들은 소수가 아님\n",
    "                prime_list[j] = 'x'\n",
    "    answer=prime_list.count('o')        # 리스트 내 소수로 판정된 배열의 개수 카운트\n",
    "    #print(prime_list)\n",
    "    return answer"
   ]
  },
  {
   "cell_type": "code",
   "execution_count": 2,
   "metadata": {},
   "outputs": [],
   "source": [
    "def solution(n):\n",
    "    num=set(range(2,n+1))\n",
    "\n",
    "    for i in range(2,n+1):\n",
    "        if i in num:\n",
    "            num-=set(range(2*i,n+1,i))\n",
    "    return len(num)"
   ]
  }
 ],
 "metadata": {
  "kernelspec": {
   "display_name": "aiffel",
   "language": "python",
   "name": "aiffel"
  },
  "language_info": {
   "codemirror_mode": {
    "name": "ipython",
    "version": 3
   },
   "file_extension": ".py",
   "mimetype": "text/x-python",
   "name": "python",
   "nbconvert_exporter": "python",
   "pygments_lexer": "ipython3",
   "version": "3.7.6"
  }
 },
 "nbformat": 4,
 "nbformat_minor": 4
}
